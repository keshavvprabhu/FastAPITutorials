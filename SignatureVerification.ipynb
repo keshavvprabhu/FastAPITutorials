{
  "nbformat": 4,
  "nbformat_minor": 0,
  "metadata": {
    "colab": {
      "provenance": [],
      "authorship_tag": "ABX9TyOYTRbNwFuyiH1e788MN2ce",
      "include_colab_link": true
    },
    "kernelspec": {
      "name": "python3",
      "display_name": "Python 3"
    },
    "language_info": {
      "name": "python"
    }
  },
  "cells": [
    {
      "cell_type": "markdown",
      "metadata": {
        "id": "view-in-github",
        "colab_type": "text"
      },
      "source": [
        "<a href=\"https://colab.research.google.com/github/keshavvprabhu/FastAPITutorials/blob/master/SignatureVerification.ipynb\" target=\"_parent\"><img src=\"https://colab.research.google.com/assets/colab-badge.svg\" alt=\"Open In Colab\"/></a>"
      ]
    },
    {
      "cell_type": "code",
      "execution_count": null,
      "metadata": {
        "colab": {
          "base_uri": "https://localhost:8080/",
          "height": 682
        },
        "id": "YzJuv0y5He7p",
        "outputId": "baa844d9-3e52-4ac6-ac18-a4a45988c2bc"
      },
      "outputs": [
        {
          "output_type": "error",
          "ename": "error",
          "evalue": "OpenCV(4.11.0) /io/opencv/modules/imgproc/src/resize.cpp:4208: error: (-215:Assertion failed) !ssize.empty() in function 'resize'\n",
          "traceback": [
            "\u001b[0;31m---------------------------------------------------------------------------\u001b[0m",
            "\u001b[0;31merror\u001b[0m                                     Traceback (most recent call last)",
            "\u001b[0;32m<ipython-input-1-44e53163566f>\u001b[0m in \u001b[0;36m<cell line: 0>\u001b[0;34m()\u001b[0m\n\u001b[1;32m     75\u001b[0m \u001b[0mimage2_path\u001b[0m \u001b[0;34m=\u001b[0m \u001b[0;34m'test_signature.png'\u001b[0m\u001b[0;34m\u001b[0m\u001b[0;34m\u001b[0m\u001b[0m\n\u001b[1;32m     76\u001b[0m \u001b[0;34m\u001b[0m\u001b[0m\n\u001b[0;32m---> 77\u001b[0;31m \u001b[0mssim_confidence\u001b[0m \u001b[0;34m=\u001b[0m \u001b[0mcompare_signatures_ssim\u001b[0m\u001b[0;34m(\u001b[0m\u001b[0mimage1_path\u001b[0m\u001b[0;34m,\u001b[0m \u001b[0mimage2_path\u001b[0m\u001b[0;34m)\u001b[0m\u001b[0;34m\u001b[0m\u001b[0;34m\u001b[0m\u001b[0m\n\u001b[0m\u001b[1;32m     78\u001b[0m \u001b[0morb_confidence\u001b[0m \u001b[0;34m=\u001b[0m \u001b[0mcompare_signatures_orb\u001b[0m\u001b[0;34m(\u001b[0m\u001b[0mimage1_path\u001b[0m\u001b[0;34m,\u001b[0m \u001b[0mimage2_path\u001b[0m\u001b[0;34m)\u001b[0m\u001b[0;34m\u001b[0m\u001b[0;34m\u001b[0m\u001b[0m\n\u001b[1;32m     79\u001b[0m \u001b[0mtemplate_confidence\u001b[0m \u001b[0;34m=\u001b[0m \u001b[0mcompare_signatures_template_matching\u001b[0m\u001b[0;34m(\u001b[0m\u001b[0mimage1_path\u001b[0m\u001b[0;34m,\u001b[0m \u001b[0mimage2_path\u001b[0m\u001b[0;34m)\u001b[0m\u001b[0;34m\u001b[0m\u001b[0;34m\u001b[0m\u001b[0m\n",
            "\u001b[0;32m<ipython-input-1-44e53163566f>\u001b[0m in \u001b[0;36mcompare_signatures_ssim\u001b[0;34m(image1_path, image2_path)\u001b[0m\n\u001b[1;32m     16\u001b[0m \u001b[0;34m\u001b[0m\u001b[0m\n\u001b[1;32m     17\u001b[0m     \u001b[0;31m# Resize images to the same dimensions (important for comparison)\u001b[0m\u001b[0;34m\u001b[0m\u001b[0;34m\u001b[0m\u001b[0m\n\u001b[0;32m---> 18\u001b[0;31m     \u001b[0mimg1\u001b[0m \u001b[0;34m=\u001b[0m \u001b[0mcv2\u001b[0m\u001b[0;34m.\u001b[0m\u001b[0mresize\u001b[0m\u001b[0;34m(\u001b[0m\u001b[0mimg1\u001b[0m\u001b[0;34m,\u001b[0m \u001b[0;34m(\u001b[0m\u001b[0;36m256\u001b[0m\u001b[0;34m,\u001b[0m \u001b[0;36m256\u001b[0m\u001b[0;34m)\u001b[0m\u001b[0;34m)\u001b[0m\u001b[0;34m\u001b[0m\u001b[0;34m\u001b[0m\u001b[0m\n\u001b[0m\u001b[1;32m     19\u001b[0m     \u001b[0mimg2\u001b[0m \u001b[0;34m=\u001b[0m \u001b[0mcv2\u001b[0m\u001b[0;34m.\u001b[0m\u001b[0mresize\u001b[0m\u001b[0;34m(\u001b[0m\u001b[0mimg2\u001b[0m\u001b[0;34m,\u001b[0m \u001b[0;34m(\u001b[0m\u001b[0;36m256\u001b[0m\u001b[0;34m,\u001b[0m \u001b[0;36m256\u001b[0m\u001b[0;34m)\u001b[0m\u001b[0;34m)\u001b[0m\u001b[0;34m\u001b[0m\u001b[0;34m\u001b[0m\u001b[0m\n\u001b[1;32m     20\u001b[0m \u001b[0;34m\u001b[0m\u001b[0m\n",
            "\u001b[0;31merror\u001b[0m: OpenCV(4.11.0) /io/opencv/modules/imgproc/src/resize.cpp:4208: error: (-215:Assertion failed) !ssize.empty() in function 'resize'\n"
          ]
        }
      ],
      "source": [
        "# prompt: Write a program that takes two signature images, preprocesses them and then compares the original and identifies the fake or forged signature and gives a confidence percentage. The below code gives me > 100% confidence which is incorrect. This confidence percentage is still a little too much on the higher side. It seems to be overfitting. Can you tweak the confidence percentage to make it better\n",
        "# the match percentage is skewed and does not represent correctness.\n",
        "# Use other methods or models to verify the same thing\n",
        "# After the latest changes, things are looking better.\n",
        "# Create multiple compare_signatures() with different skimage, open cv models\n",
        "# please fix the error\n",
        "\n",
        "import cv2\n",
        "import numpy as np\n",
        "from skimage.metrics import structural_similarity as ssim\n",
        "\n",
        "def compare_signatures_ssim(image1_path, image2_path):\n",
        "    # Load images in grayscale\n",
        "    img1 = cv2.imread(image1_path, cv2.IMREAD_GRAYSCALE)\n",
        "    img2 = cv2.imread(image2_path, cv2.IMREAD_GRAYSCALE)\n",
        "\n",
        "    # Resize images to the same dimensions (important for comparison)\n",
        "    img1 = cv2.resize(img1, (256, 256))\n",
        "    img2 = cv2.resize(img2, (256, 256))\n",
        "\n",
        "    # Calculate SSIM\n",
        "    score, diff = ssim(img1, img2, full=True)\n",
        "\n",
        "    # Confidence percentage (adjusted scale)\n",
        "    confidence = (score * 100)\n",
        "\n",
        "    return confidence\n",
        "\n",
        "def compare_signatures_orb(image1_path, image2_path):\n",
        "    img1 = cv2.imread(image1_path, cv2.IMREAD_GRAYSCALE)\n",
        "    img2 = cv2.imread(image2_path, cv2.IMREAD_GRAYSCALE)\n",
        "\n",
        "    # Initiate ORB detector\n",
        "    orb = cv2.ORB_create()\n",
        "\n",
        "    # find the keypoints and descriptors with ORB\n",
        "    kp1, des1 = orb.detectAndCompute(img1,None)\n",
        "    kp2, des2 = orb.detectAndCompute(img2,None)\n",
        "\n",
        "    # create BFMatcher object\n",
        "    bf = cv2.BFMatcher(cv2.NORM_HAMMING, crossCheck=True)\n",
        "\n",
        "    # Match descriptors.\n",
        "    matches = bf.match(des1,des2)\n",
        "\n",
        "    # Sort them in the order of their distance.\n",
        "    matches = sorted(matches, key = lambda x:x.distance)\n",
        "\n",
        "    # Calculate the number of good matches\n",
        "    good_matches = len(matches)\n",
        "\n",
        "    # Calculate confidence (adjust as needed)\n",
        "    confidence = (good_matches / len(kp1) if len(kp1) > 0 else 0) * 100\n",
        "\n",
        "    return confidence\n",
        "\n",
        "def compare_signatures_template_matching(image1_path, image2_path):\n",
        "    img1 = cv2.imread(image1_path, cv2.IMREAD_GRAYSCALE)\n",
        "    img2 = cv2.imread(image2_path, cv2.IMREAD_GRAYSCALE)\n",
        "\n",
        "    img1 = cv2.resize(img1, (256, 256))\n",
        "    img2 = cv2.resize(img2, (256, 256))\n",
        "\n",
        "    res = cv2.matchTemplate(img2, img1, cv2.TM_CCOEFF_NORMED)\n",
        "    min_val, max_val, min_loc, max_loc = cv2.minMaxLoc(res)\n",
        "\n",
        "    confidence = max_val*100\n",
        "\n",
        "\n",
        "    return confidence\n",
        "\n",
        "\n",
        "# Example usage\n",
        "image1_path = 'original_signature.png'  # Replace with the actual path to your signature images\n",
        "image2_path = 'test_signature.png'\n",
        "\n",
        "ssim_confidence = compare_signatures_ssim(image1_path, image2_path)\n",
        "orb_confidence = compare_signatures_orb(image1_path, image2_path)\n",
        "template_confidence = compare_signatures_template_matching(image1_path, image2_path)\n",
        "\n",
        "\n",
        "print(f\"SSIM Confidence: {ssim_confidence:.2f}%\")\n",
        "print(f\"ORB Confidence: {orb_confidence:.2f}%\")\n",
        "print(f\"Template Matching Confidence: {template_confidence:.2f}%\")"
      ]
    }
  ]
}